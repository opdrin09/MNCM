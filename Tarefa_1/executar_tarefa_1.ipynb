# CÉLULA 1

# 1. Instala o 'condacolab' para termos uma "loja de aplicativos" no Colab
!pip install -q condacolab
import condacolab
condacolab.install()

# 2. Manda a "loja de aplicativos" instalar a versão 1.10 do Julia.
#    Se quiser outra versão, como a 1.9, mude para julia=1.9
!mamba install -c conda-forge julia=1.10 -y # <--- É AQUI QUE VOCÊ ESPECIFICA A VERSÃO!

# CÉLULA 2

# Lembre-se de substituir SEU_USUARIO e SEU_REPOSITORIO
!git clone https://github.com/opdrin09/MNCM.git
# CÉLULA 3

# Lembre-se de substituir SEU_REPOSITORIO
%cd SEU_REPOSITORIO

# Este comando ativa as bibliotecas (Plots, etc.) e roda seu script
!julia -e 'using Pkg; Pkg.activate("./tarefa_1"); Pkg.instantiate(); include("./tarefa_1/tarefa_1.jl")'
