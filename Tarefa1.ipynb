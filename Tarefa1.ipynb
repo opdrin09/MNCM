{
  "nbformat": 4,
  "nbformat_minor": 0,
  "metadata": {
    "colab": {
      "provenance": [],
      "authorship_tag": "ABX9TyNjP40svBdFQvm1kXP+Qomb",
      "include_colab_link": true
    },
    "kernelspec": {
      "name": "julia",
      "display_name": "Julia"
    },
    "language_info": {
      "name": "julia"
    }
  },
  "cells": [
    {
      "cell_type": "markdown",
      "metadata": {
        "id": "view-in-github",
        "colab_type": "text"
      },
      "source": [
        "<a href=\"https://colab.research.google.com/github/opdrin09/MNCM/blob/main/Tarefa1.ipynb\" target=\"_parent\"><img src=\"https://colab.research.google.com/assets/colab-badge.svg\" alt=\"Open In Colab\"/></a>"
      ]
    },
    {
      "cell_type": "markdown",
      "source": [
        "## Formulação do problema 1\n",
        "\n",
        " 1 - Escreva um programa de computador (Fortran, C++ ou Python) para resolver o\n",
        " problema de sedimentação de uma esfera em baixo Reynolds na sua forma adimensional\n",
        " e compare sua solução com a solução analítica;\n",
        "\n",
        "\n",
        " Como há uma comparação com a analítica, supõe-se que se deva fazer a mesma consideração que a disposta no slide, de que por baixo Reynolds, pode-se supor $Re \\approx 0$, de fato o que se pretende resolver inicialmente é:\n",
        "\n",
        " $st \\frac{dv^*_z}{dt*}=-v_z^*+1$\n",
        "\n",
        "\n",
        " ```\n",
        "\n",
        "\n",
        "\n",
        "```"
      ],
      "metadata": {
        "id": "ulD1s-Psf9pH"
      }
    },
    {
      "cell_type": "code",
      "execution_count": null,
      "metadata": {
        "id": "oWIEiE-dfVS0"
      },
      "outputs": [],
      "source": [
        "using Plots\n",
        "tmax = 10\n",
        "st =1\n",
        "function calculonum(Δt, tmax, st)\n",
        "  y_n = 0\n",
        "  t_n = 0\n",
        "  ye= 0\n",
        "  t = 0\n",
        "  k1=k2=k3=k4 = 0\n",
        "  function f(t,y)\n",
        "    return (-y+1)/st\n",
        "  end\n",
        "\n",
        "  y = []\n",
        "  yexato =  []\n",
        "  tp = []\n",
        "\n",
        "\n",
        "  while t<tmax\n",
        "    push!(y,y_n)\n",
        "    push!(tp, t)\n",
        "    k1 = f(t_n,y_n)\n",
        "    k2 = f(t_n+Δt/2,y_n+k1*Δt/2)\n",
        "    k3 = f(t_n+Δt/2,y_n+k2*Δt/2)\n",
        "    k4 = f( t_n+Δt/2, y_n+k3*Δt)\n",
        "    ym1 = y_n +Δt*(k1+2*k2+2*k3+k4)/6\n",
        "\n",
        "\n",
        "    t = t+Δt\n",
        "\n",
        "\n",
        "    y_n = ym1\n",
        "    t_n = t\n",
        "  end\n",
        "\n",
        "  push!(y,y_n)\n",
        "  push!(yexato, ye)\n",
        "  push!(tp, t)\n",
        "\n",
        "  return tp,  y\n",
        "\n",
        "end\n",
        "\n",
        "tp2 = range(0, tmax,1000)\n",
        "yexato2   =@. 1-ℯ^(-tp2/st)\n",
        "\n",
        "p1 = plot(tp2,yexato2, ylabel = \"Velocidade (m/s)\", xlabel = \"Tempo (s)\", label = \"yexato\", linewidth =2, linestyle = :dash )\n",
        "\n",
        "for x in range(0,7)\n",
        "  Δt = 2*1.5^(-x)\n",
        "\n",
        "  tp,  y = calculonum(Δt, tmax, st)\n",
        "\n",
        "  plot!(p1, tp, y, label = \"Δt=$(round(Δt, digits=2)) \", linestyle = :dashdot)\n",
        "\n",
        "\n",
        "end\n",
        "display(p1)"
      ]
    },
    {
      "cell_type": "markdown",
      "source": [
        "$m_p \\frac{dv_z}{Δt} = -6\\pi\\eta a v_z- \\frac{9}{4} \\pi \\rho_f a^2 v_z^2+\\frac{4}{3} \\pi a^3  \\Delta \\rho g$\n",
        "\n",
        "Dados: $v_z^* = \\frac{v_z}{vs}$,   $t^* = t a/v_s$, $St = \\frac{m_p v_s}{6 \\pi \\eta a^2} $ e $6\\pi\\eta a  v_s=\\frac{4}{3} \\pi a^3  \\Delta \\rho g$\n",
        "\n",
        "\n",
        "$m_p \\frac{v_s^2}{a} \\frac{dv_z^*}{Δt^*}  = -6\\pi\\eta a  v_s v_z^*    - \\frac{9}{4} \\pi \\rho_f a^2 v_s^2 v_z^{*2}+\\frac{4}{3} \\pi a^3  \\Delta \\rho g$, divindo-se a equação por $6\\pi\\eta a  v_s$:\n",
        "\n",
        "$St \\frac{dv_z^*}{Δt^*} = -v_z^* -  \\frac{3}{8} \\frac{ \\rho_f a v_s }{\\eta}v_z^{*2} +\\frac{2}{9}  \\frac{a^2  \\Delta \\rho g}{\\eta u_s} $\n",
        "\n",
        "$St \\frac{dv_z^*}{Δt^*} = -v_z^* -  \\frac{3}{8} Re v_z^{*2} +1 $"
      ],
      "metadata": {
        "id": "hWhemBe1lQFo"
      }
    },
    {
      "cell_type": "code",
      "source": [
        "tmax = 10\n",
        "st =1\n",
        "Re=1\n",
        "function calculonum2(Δt, tmax, st, Re)\n",
        "  y_n = 0\n",
        "  t_n = 0\n",
        "  ye= 0\n",
        "  t = 0\n",
        "  k1=k2=k3=k4 = 0\n",
        "  function f(t,y)\n",
        "    return (-y-3/8*Re*y^2+1)/st\n",
        "  end\n",
        "\n",
        "  y = []\n",
        "  yexato =  []\n",
        "  tp = []\n",
        "\n",
        "\n",
        "  while t<tmax\n",
        "    push!(y,y_n)\n",
        "    push!(tp, t)\n",
        "    k1 = f(t_n,y_n)\n",
        "    k2 = f(t_n+Δt/2,y_n+k1*Δt/2)\n",
        "    k3 = f(t_n+Δt/2,y_n+k2*Δt/2)\n",
        "    k4 = f( t_n+Δt/2, y_n+k3*Δt)\n",
        "    ym1 = y_n +Δt*(k1+2*k2+2*k3+k4)/6\n",
        "\n",
        "\n",
        "    t = t+Δt\n",
        "\n",
        "\n",
        "    y_n = ym1\n",
        "    t_n = t\n",
        "  end\n",
        "\n",
        "  push!(y,y_n)\n",
        "  push!(yexato, ye)\n",
        "  push!(tp, t)\n",
        "\n",
        "  return tp,  y\n",
        "\n",
        "end\n",
        "tp2 = 0\n",
        "tp2 = range(0, tmax,1000)\n",
        "yexato2   =@. 1-ℯ^(-tp2/st)\n",
        "\n",
        "p1 = plot(tp2,yexato2, ylabel = \"Velocidade (m/s)\", xlabel = \"Tempo (s)\", label = \"Y_analítico: Re=0\", linewidth =2, ylims=(0,1), linestyle = :dash )\n",
        "\n",
        "for x in range(0,10)\n",
        "  Δt = 0.01\n",
        "  Re = 5*2^(x)-5\n",
        "\n",
        "  tp,  y = calculonum2(Δt, tmax, st, Re)\n",
        "\n",
        "  plot!(p1, tp, y, label = \"Re=$(round(Int, Re))\", linestyle= :dashdot)\n",
        "\n",
        "\n",
        "\n",
        "end\n",
        "display(p1)"
      ],
      "metadata": {
        "id": "PoiHV8wAwVsl"
      },
      "execution_count": null,
      "outputs": []
    }
  ]
}